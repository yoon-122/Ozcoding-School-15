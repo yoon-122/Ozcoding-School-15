{
  "nbformat": 4,
  "nbformat_minor": 0,
  "metadata": {
    "colab": {
      "provenance": []
    },
    "kernelspec": {
      "name": "python3",
      "display_name": "Python 3"
    },
    "language_info": {
      "name": "python"
    }
  },
  "cells": [
    {
      "cell_type": "markdown",
      "source": [
        "안녕하세요.<br><br>\n",
        "수강생 여러분~! Chapter05 ~ 08 수업은 잘 들으셨나요?\n",
        "\n",
        "Chapter05 ~ 08의 수업 내용을 바탕으로 아래 문제를 풀어주시면 됩니다.\n",
        "\n",
        "<br>\n",
        "\n",
        "[**답변 입력 방법**]\n",
        "\n",
        "문제 아래에 있는 코드 입력창에 정답코드를 작성하신 후  __▷ 버튼을 클릭해 코드를 실행__ 해보세요<br>"
      ],
      "metadata": {
        "id": "dUjcmta5RGow"
      }
    },
    {
      "cell_type": "markdown",
      "source": [
        "-----"
      ],
      "metadata": {
        "id": "TSODpb84R1KK"
      }
    },
    {
      "cell_type": "markdown",
      "source": [
        "## 모험가들의 레벨업 도전\n",
        "\n",
        "### [배경 이야기]\n",
        "\n",
        "당신은 마법사, 전사, 도적, 힐러 네 명의 모험가를 이끄는 리더입니다.\n",
        "\n",
        "각 캐릭터는 힘, 민첩, 지능, 체력이라는 능력치를 가지고 있습니다. 이 능력치들을 이용해 다양한 도전을 해결하고 사냥을 통해 경험치를 얻어 레벨업을 해야 합니다.\n",
        "\n",
        "<br>\n",
        "\n",
        "### [동료 캐릭터와 능력치 정보]\n",
        "\n",
        "마법사: 힘(10), 민첩(20), 지능(80), 체력(50)\n",
        "\n",
        "전사: 힘(80), 민첩(30), 지능(20), 체력(100)\n",
        "\n",
        "도적: 힘(40), 민첩(80), 지능(30), 체력(60)\n",
        "\n",
        "힐러: 힘(20), 민첩(40), 지능(70), 체력(70)\n",
        "\n",
        "<br>\n",
        "\n",
        "* 변수명을 영어로 변경해서 풀어보세요 !"
      ],
      "metadata": {
        "id": "8xQjVr4FRQY4"
      }
    },
    {
      "cell_type": "code",
      "source": [
        "# 캐릭터 능력치 설정 (영어 변수명 사용)\n",
        "\n",
        "# 마법사 (Wizard)\n",
        "wizard_strength = 10\n",
        "wizard_agility = 20\n",
        "wizard_intelligence = 80\n",
        "wizard_health = 50\n",
        "\n",
        "# 전사 (Warrior)\n",
        "warrior_strength = 80\n",
        "warrior_agility = 30\n",
        "warrior_intelligence = 20\n",
        "warrior_health = 100\n",
        "\n",
        "# 도적 (Rogue)\n",
        "rogue_strength = 40\n",
        "rogue_agility = 80\n",
        "rogue_intelligence = 30\n",
        "rogue_health = 60\n",
        "\n",
        "# 힐러 (Healer)\n",
        "healer_strength = 20\n",
        "healer_agility = 40\n",
        "healer_intelligence = 70\n",
        "healer_health = 70\n",
        "\n",
        "print(\"캐릭터 능력치가 설정되었습니다!\")\n",
        "print(f\"마법사: 힘({wizard_strength}), 민첩({wizard_agility}), 지능({wizard_intelligence}), 체력({wizard_health})\")\n",
        "print(f\"전사: 힘({warrior_strength}), 민첩({warrior_agility}), 지능({warrior_intelligence}), 체력({warrior_health})\")\n",
        "print(f\"도적: 힘({rogue_strength}), 민첩({rogue_agility}), 지능({rogue_intelligence}), 체력({rogue_health})\")\n",
        "print(f\"힐러: 힘({healer_strength}), 민첩({healer_agility}), 지능({healer_intelligence}), 체력({healer_health})\")\n"
      ],
      "metadata": {
        "colab": {
          "base_uri": "https://localhost:8080/"
        },
        "id": "AKkw-zrHSAgN",
        "outputId": "1810c1be-c65c-44f3-eb8c-0e479feeca5f"
      },
      "execution_count": 1,
      "outputs": [
        {
          "output_type": "stream",
          "name": "stdout",
          "text": [
            "캐릭터 능력치가 설정되었습니다!\n",
            "마법사: 힘(10), 민첩(20), 지능(80), 체력(50)\n",
            "전사: 힘(80), 민첩(30), 지능(20), 체력(100)\n",
            "도적: 힘(40), 민첩(80), 지능(30), 체력(60)\n",
            "힐러: 힘(20), 민첩(40), 지능(70), 체력(70)\n"
          ]
        }
      ]
    },
    {
      "cell_type": "markdown",
      "source": [
        "## 문제 1: 첫 번째 사냥\n",
        "\n",
        "마법사는 몬스터를 사냥하기 위해 마법을 사용합니다.\n",
        "마법을 사용하려면 지능이 50 이상이어야 합니다.\n",
        "마법사의 지능이 50 이상인지 확인하세요.\n",
        "\n"
      ],
      "metadata": {
        "id": "DgwsQ3ShSK4M"
      }
    },
    {
      "cell_type": "code",
      "execution_count": 6,
      "metadata": {
        "colab": {
          "base_uri": "https://localhost:8080/"
        },
        "id": "kiVF8-GkQ-z4",
        "outputId": "fc0a22fb-e83e-4469-8491-e1f9891fa082"
      },
      "outputs": [
        {
          "output_type": "stream",
          "name": "stdout",
          "text": [
            "마법사가 마법을 사용할 수 있습니다!\n",
            "마법사의 지능: 80\n"
          ]
        }
      ],
      "source": [
        "if wizard_intelligence >= 50:\n",
        "    print(\"마법사가 마법을 사용할 수 있습니다!\")\n",
        "    print(f\"마법사의 지능: {wizard_intelligence}\")\n",
        "else:\n",
        "    print(\"마법사의 지능이 부족합니다.\")\n",
        "    print(f\"마법사의 지능: {wizard_intelligence}\")"
      ]
    },
    {
      "cell_type": "markdown",
      "source": [
        "## 문제 2: 두 번째 사냥\n",
        "\n",
        "전사는 강력한 공격을 하기 위해 자신의 힘을 사용합니다.\n",
        "전사의 힘이 60 이상이고 체력이 80 이상인지 확인하세요.\n"
      ],
      "metadata": {
        "id": "B1iI2ra9SRq4"
      }
    },
    {
      "cell_type": "code",
      "source": [
        "if warrior_strength >= 60 and warrior_health >= 80:\n",
        "    print(\"전사가 강력한 공격을 할 수 있습니다!\")\n",
        "    print(f\"전사의 힘: {warrior_strength}, 체력: {warrior_health}\")\n",
        "else:\n",
        "    print(\"전사의 능력치가 부족합니다.\")\n",
        "    print(f\"전사의 힘: {warrior_strength}, 체력: {warrior_health}\")"
      ],
      "metadata": {
        "colab": {
          "base_uri": "https://localhost:8080/"
        },
        "id": "YNGa-zEbSP2D",
        "outputId": "156eace8-7f10-4fa0-f7b5-58579e9e9d8a"
      },
      "execution_count": 5,
      "outputs": [
        {
          "output_type": "stream",
          "name": "stdout",
          "text": [
            "전사가 강력한 공격을 할 수 있습니다!\n",
            "전사의 힘: 80, 체력: 100\n"
          ]
        }
      ]
    },
    {
      "cell_type": "markdown",
      "source": [
        "## 문제 3: 세 번째 사냥\n",
        "\n",
        "도적은 민첩함을 이용해 몬스터를 회피하고 공격합니다.\n",
        "도적의 민첩이 70 이상이거나 힘이 50 이상인지 확인하세요."
      ],
      "metadata": {
        "id": "MM9b5q0OSWSK"
      }
    },
    {
      "cell_type": "code",
      "source": [
        "if rogue_agility >= 70 or rogue_strength >= 50:\n",
        "    print(\"도적이 몬스터를 회피하고 공격할 수 있습니다!\")\n",
        "    print(f\"도적의 민첩: {rogue_agility}, 힘: {rogue_strength}\")\n",
        "else:\n",
        "    print(\"도적의 능력치가 부족합니다.\")\n",
        "    print(f\"도적의 민첩: {rogue_agility}, 힘: {rogue_strength}\")"
      ],
      "metadata": {
        "colab": {
          "base_uri": "https://localhost:8080/"
        },
        "id": "eFi8kX5gSUTd",
        "outputId": "417c3696-6261-4088-cf92-c5db3522eb85"
      },
      "execution_count": 4,
      "outputs": [
        {
          "output_type": "stream",
          "name": "stdout",
          "text": [
            "도적이 몬스터를 회피하고 공격할 수 있습니다!\n",
            "도적의 민첩: 80, 힘: 40\n"
          ]
        }
      ]
    },
    {
      "cell_type": "markdown",
      "source": [
        "## 문제 4: 네 번째 사냥\n",
        "\n",
        "힐러는 파티의 체력을 회복시키기 위해 마법을 사용합니다.\n",
        "힐러의 지능이 60 이상이고, 체력이 50 이상인지 확인하세요."
      ],
      "metadata": {
        "id": "T5oozBzfSeHB"
      }
    },
    {
      "cell_type": "code",
      "source": [
        "if healer_intelligence >= 60 and healer_health >= 50:\n",
        "    print(\"힐러가 파티의 체력을 회복시킬 수 있습니다!\")\n",
        "    print(f\"힐러의 지능: {healer_intelligence}, 체력: {healer_health}\")\n",
        "else:\n",
        "    print(\"힐러의 능력치가 부족합니다.\")\n",
        "    print(f\"힐러의 지능: {healer_intelligence}, 체력: {healer_health}\")"
      ],
      "metadata": {
        "colab": {
          "base_uri": "https://localhost:8080/"
        },
        "id": "bB09mr9BSZIN",
        "outputId": "fd4a0fd3-a881-4b33-d92c-df5cba3f5906"
      },
      "execution_count": 7,
      "outputs": [
        {
          "output_type": "stream",
          "name": "stdout",
          "text": [
            "힐러가 파티의 체력을 회복시킬 수 있습니다!\n",
            "힐러의 지능: 70, 체력: 70\n"
          ]
        }
      ]
    },
    {
      "cell_type": "markdown",
      "source": [
        "## 문제 5: 레벨업\n",
        "\n",
        "모든 캐릭터가 사냥을 성공적으로 마쳤습니다. 이제 경험치를 얻어 레벨업을 해야 합니다.\n",
        "각 캐릭터의 경험치가 100 이상인지 print()를 이용해 확인해주세요.\n",
        "\n",
        "경험치:\n",
        "- 마법사: 120\n",
        "- 전사: 150\n",
        "- 도적: 110\n",
        "- 힐러: 90"
      ],
      "metadata": {
        "id": "pMvF9fKXShPa"
      }
    },
    {
      "cell_type": "code",
      "source": [
        "wizard_exp = 120\n",
        "warrior_exp = 150\n",
        "rogue_exp = 110\n",
        "healer_exp = 90\n",
        "\n",
        "print(\"=== 레벨업 확인 ===\")\n",
        "\n",
        "print(f\"마법사 경험치: {wizard_exp}\")\n",
        "if wizard_exp >= 100:\n",
        "    print(\"마법사가 레벨업할 수 있습니다!\")\n",
        "else:\n",
        "    print(\"마법사는 경험치가 부족합니다.\")\n",
        "print(f\"\\n전사 경험치: {warrior_exp}\")\n",
        "if warrior_exp >= 100:\n",
        "    print(\"전사가 레벨업할 수 있습니다!\")\n",
        "else:\n",
        "    print(\"전사는 경험치가 부족합니다.\")\n",
        "    print(f\"\\n도적 경험치: {rogue_exp}\")\n",
        "if rogue_exp >= 100:\n",
        "    print(\"도적이 레벨업할 수 있습니다!\")\n",
        "else:\n",
        "    print(\"도적은 경험치가 부족합니다.\")\n",
        "    print(f\"\\n힐러 경험치: {healer_exp}\")\n",
        "if healer_exp >= 100:\n",
        "    print(\"힐러가 레벨업할 수 있습니다!\")\n",
        "else:\n",
        "    print(\"힐러는 경험치가 부족합니다.\")\n",
        "\n",
        "print(\"\\n=== 모험 완료! ===\")"
      ],
      "metadata": {
        "colab": {
          "base_uri": "https://localhost:8080/"
        },
        "id": "q54c7_DbSfrl",
        "outputId": "9f978374-43d1-4eb8-82e8-73538a3c9004"
      },
      "execution_count": 9,
      "outputs": [
        {
          "output_type": "stream",
          "name": "stdout",
          "text": [
            "=== 레벨업 확인 ===\n",
            "마법사 경험치: 120\n",
            "마법사가 레벨업할 수 있습니다!\n",
            "\n",
            "전사 경험치: 150\n",
            "전사가 레벨업할 수 있습니다!\n",
            "도적이 레벨업할 수 있습니다!\n",
            "힐러는 경험치가 부족합니다.\n",
            "\n",
            "=== 모험 완료! ===\n"
          ]
        }
      ]
    },
    {
      "cell_type": "code",
      "source": [],
      "metadata": {
        "id": "_x7q3tZeSqUj"
      },
      "execution_count": null,
      "outputs": []
    }
  ]
}