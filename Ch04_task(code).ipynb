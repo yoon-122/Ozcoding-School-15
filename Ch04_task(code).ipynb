{
  "nbformat": 4,
  "nbformat_minor": 0,
  "metadata": {
    "colab": {
      "provenance": []
    },
    "kernelspec": {
      "name": "python3",
      "display_name": "Python 3"
    },
    "language_info": {
      "name": "python"
    }
  },
  "cells": [
    {
      "cell_type": "markdown",
      "source": [
        "**[문제 1: 입구의 수수께끼]**\n",
        "\n",
        "돌문을 열려면 두 개의 열쇠 숫자를 더해야 합니다.\n",
        "열쇠 숫자는 14와 29입니다.\n",
        "**돌문을 여는 숫자**를 구해주세요."
      ],
      "metadata": {
        "id": "nixCilWrKAAT"
      }
    },
    {
      "cell_type": "markdown",
      "source": [],
      "metadata": {
        "id": "69Eb1OC_J-n4"
      }
    },
    {
      "cell_type": "code",
      "source": [
        "14 + 29"
      ],
      "metadata": {
        "colab": {
          "base_uri": "https://localhost:8080/"
        },
        "id": "av1L6F71IBhX",
        "outputId": "922f9c1b-10ff-4839-9e1f-dd2c80c1418c"
      },
      "execution_count": 5,
      "outputs": [
        {
          "output_type": "execute_result",
          "data": {
            "text/plain": [
              "43"
            ]
          },
          "metadata": {},
          "execution_count": 5
        }
      ]
    },
    {
      "cell_type": "markdown",
      "source": [
        "**[문제 2: 첫 번째 강의 다리]**\n",
        "\n",
        "다리는 50kg 이상 버티지 못하기 때문에 68kg인 당신은 무게를 줄여야 합니다.\n",
        "다리를 건너기 위해 줄여야 할 **최소 무게**를 구해주세요."
      ],
      "metadata": {
        "id": "cKBIDU_QKGfo"
      }
    },
    {
      "cell_type": "code",
      "source": [
        "68 - 50"
      ],
      "metadata": {
        "colab": {
          "base_uri": "https://localhost:8080/"
        },
        "id": "dQ49rsyQIGdW",
        "outputId": "327fc980-8c68-4dd2-f6e2-b6c99538a877"
      },
      "execution_count": 7,
      "outputs": [
        {
          "output_type": "execute_result",
          "data": {
            "text/plain": [
              "18"
            ]
          },
          "metadata": {},
          "execution_count": 7
        }
      ]
    },
    {
      "cell_type": "markdown",
      "source": [
        "**[문제 3: 숲 속의 고목나무]**\n",
        "\n",
        "나무의 나이를 구하기 위해서는 4년마다 한 번의 나이테가 생깁니다.\n",
        "돌문을 열때 사용한 숫자를 나이테 개수로 사용하여 **나무의 나이**를 구하세요.\n",
        "\n",
        "**Tips**: 문제 1의 결과값을 참고하세요!"
      ],
      "metadata": {
        "id": "_y0esQvdKfLD"
      }
    },
    {
      "cell_type": "code",
      "source": [
        "43 * 4"
      ],
      "metadata": {
        "id": "0pxK6PqRIpEn"
      },
      "execution_count": null,
      "outputs": []
    },
    {
      "cell_type": "markdown",
      "source": [
        "**[문제 4: 숲 속의 마법 연못]**\n",
        "\n",
        "연못의 깊이를 측정하려면 나무의 나이를 이용해야 합니다.\n",
        "나무의 나이가 172살이고, 연못의 깊이는 나무 나이의 1/4입니다.\n",
        "**연못의 깊이**를 구하세요.\n"
      ],
      "metadata": {
        "id": "EzsCUXozKiUY"
      }
    },
    {
      "cell_type": "markdown",
      "source": [
        "172 / 4"
      ],
      "metadata": {
        "id": "sKDYw-vmKkpe"
      }
    },
    {
      "cell_type": "markdown",
      "source": [
        "**[문제 5: 사원의 입구]**\n",
        "\n",
        "사원의 입구에는 비밀번호를 입력해야 합니다.\n",
        "비밀번호는 3자리 수로,\n",
        "- 첫 번째 자리는 5\n",
        "- 두 번째 자리는 돌문을 여는 숫자의 십의 자리 수\n",
        "- 세 번째 자리는 돌문을 여는 숫자의 일의 자리 수의 3분의 1\n",
        "\n",
        "**비밀번호**를 구하세요."
      ],
      "metadata": {
        "id": "AlmlmRZSKn10"
      }
    },
    {
      "cell_type": "code",
      "source": [
        "n1 = 5\n",
        "n2 = 43 // 10\n",
        "n3 = (43 % 10) // 3\n",
        "print(n1, n2, n3, sep=\"\")"
      ],
      "metadata": {
        "colab": {
          "base_uri": "https://localhost:8080/"
        },
        "id": "8Z2VBvvYKpsq",
        "outputId": "fd5916fc-afb6-442e-e437-142e32df89c9"
      },
      "execution_count": 10,
      "outputs": [
        {
          "output_type": "stream",
          "name": "stdout",
          "text": [
            "541\n"
          ]
        }
      ]
    },
    {
      "cell_type": "markdown",
      "source": [
        "**[문제 6: 비밀의 동굴]**\n",
        "\n",
        "동굴을 열려면 암호를 풀어야 합니다.\n",
        "암호는 돌문을 열때 사용한 숫자의 제곱근과 같습니다.\n",
        "**암호**를 구하세요."
      ],
      "metadata": {
        "id": "YirLdQDIK0f2"
      }
    },
    {
      "cell_type": "code",
      "source": [
        "43 ** 0.5"
      ],
      "metadata": {
        "colab": {
          "base_uri": "https://localhost:8080/"
        },
        "id": "mlyS5WS4K17Q",
        "outputId": "92cecd39-2ce7-4ede-e5bf-516251e40652"
      },
      "execution_count": 11,
      "outputs": [
        {
          "output_type": "execute_result",
          "data": {
            "text/plain": [
              "6.557438524302"
            ]
          },
          "metadata": {},
          "execution_count": 11
        }
      ]
    },
    {
      "cell_type": "markdown",
      "source": [
        "**[문제 7: 해변의 파도]**\n",
        "\n",
        "배를 타고 빠르게 벗어나기 위해 우선 파도를 파악해야합니다.\n",
        "5분 동안 20번의 파도가 왔다면, 파도 한 번이 오는 데 걸리는 **평균 시간**을 구하세요."
      ],
      "metadata": {
        "id": "z4M6szchK3W9"
      }
    },
    {
      "cell_type": "code",
      "source": [
        "5 / 20"
      ],
      "metadata": {
        "colab": {
          "base_uri": "https://localhost:8080/"
        },
        "id": "7E-364YSK4Vf",
        "outputId": "25db1c18-6f3e-4883-f91e-3766709fb817"
      },
      "execution_count": 12,
      "outputs": [
        {
          "output_type": "execute_result",
          "data": {
            "text/plain": [
              "0.25"
            ]
          },
          "metadata": {},
          "execution_count": 12
        }
      ]
    },
    {
      "cell_type": "markdown",
      "source": [
        "**[문제 8: 폭포의 높이]**\n",
        "\n",
        "물방울이 떨어져 땅에 닿는 데 걸리는 시간은 2초입니다.\n",
        "중력가속도는 9.8m/s²입니다.\n",
        "돌문을 열때 사용한 숫자를 이용해 **폭포의 높이**를 구하세요. (단, 공기저항은 무시합니다.)\n",
        "\n",
        "**Tips**:\n",
        "- 높이 = 0.5 * 중력가속도 * (시간 + 돌문의 숫자의 마지막 자리 수)²"
      ],
      "metadata": {
        "id": "ZiZjEf_dK5sQ"
      }
    },
    {
      "cell_type": "code",
      "source": [
        "g = 9.8\n",
        "time = 2\n",
        "last_digit = 43 % 10\n",
        "height = 0.5 * g * (time + last_digit) ** 2\n",
        "print(height)"
      ],
      "metadata": {
        "colab": {
          "base_uri": "https://localhost:8080/"
        },
        "id": "A-aQDloCK7zB",
        "outputId": "54aa856e-bda2-4539-df4d-90581f8be61f"
      },
      "execution_count": 13,
      "outputs": [
        {
          "output_type": "stream",
          "name": "stdout",
          "text": [
            "122.50000000000001\n"
          ]
        }
      ]
    },
    {
      "cell_type": "markdown",
      "source": [
        "**[최종 문제: 탈출 비밀번호]**\n",
        "\n",
        "보물을 찾았습니다!\n",
        "\n",
        "당신은 지금 정신을 차리고 앞에 보이는 에일리언의 우주선을 빼앗아 섬을 탈출해야합니다.\n",
        "\n",
        "우주선에 타기 위해서는 비밀번호를 입력해야 합니다.\n",
        "\n",
        "비밀번호는 현재 좌표의 첫 번째 숫자와 세 번째 숫자의 차와 같습니다.\n",
        "**비밀번호**를 알아내세요!\n",
        "\n",
        "현재 좌표: 32, 43, 128"
      ],
      "metadata": {
        "id": "zIsjb_rHK8Us"
      }
    },
    {
      "cell_type": "code",
      "source": [
        "num1 = 32\n",
        "num3 = 128\n",
        "print(num3 - num1)"
      ],
      "metadata": {
        "colab": {
          "base_uri": "https://localhost:8080/"
        },
        "id": "m9kTC_enK-Ti",
        "outputId": "1fec2109-646b-46ff-da29-e09b722093a4"
      },
      "execution_count": 14,
      "outputs": [
        {
          "output_type": "stream",
          "name": "stdout",
          "text": [
            "96\n"
          ]
        }
      ]
    },
    {
      "cell_type": "markdown",
      "source": [
        "---\n",
        "\n",
        "당신은 생존했습니다 !!!!!!!!!!\n",
        "\n",
        "생존한 당신은 보물 상자를 열어봅니다.\n",
        "\n",
        "**[편지]**"
      ],
      "metadata": {
        "id": "ognM19cGLBB3"
      }
    }
  ]
}