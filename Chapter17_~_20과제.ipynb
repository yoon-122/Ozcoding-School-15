{
  "nbformat": 4,
  "nbformat_minor": 0,
  "metadata": {
    "colab": {
      "provenance": [],
      "authorship_tag": "ABX9TyPjm8giZr6VvQt/Okf7lekt",
      "include_colab_link": true
    },
    "kernelspec": {
      "name": "python3",
      "display_name": "Python 3"
    },
    "language_info": {
      "name": "python"
    }
  },
  "cells": [
    {
      "cell_type": "markdown",
      "metadata": {
        "id": "view-in-github",
        "colab_type": "text"
      },
      "source": [
        "<a href=\"https://colab.research.google.com/github/yoon-122/Ozcoding-School-15/blob/main/Chapter17_~_20%EA%B3%BC%EC%A0%9C.ipynb\" target=\"_parent\"><img src=\"https://colab.research.google.com/assets/colab-badge.svg\" alt=\"Open In Colab\"/></a>"
      ]
    },
    {
      "cell_type": "markdown",
      "source": [
        "안녕하세요. 수강생 여러분~! Chapter17 ~ 20 수업은 잘 들으셨나요?\n",
        "\n",
        "Chapter17 ~ 20의 수업 내용을 바탕으로 아래 문제를 풀어주시면 됩니다.\n",
        "\n",
        "\n",
        "[답변 입력 방법]\n",
        "\n",
        "문제 아래에 있는 코드 입력창에 정답코드를 작성하신 후 ▷ 버튼을 클릭해 코드를 실행 해보세요\n",
        "\n",
        "\n",
        "\n",
        "\n"
      ],
      "metadata": {
        "id": "eNAmt7p42mkS"
      }
    },
    {
      "cell_type": "markdown",
      "source": [
        "----"
      ],
      "metadata": {
        "id": "qQ70Y1WI2xfj"
      }
    },
    {
      "cell_type": "markdown",
      "source": [
        "[문제1]\n",
        "\n",
        "print_even 리스트 내에 있는 값 중 짝수만 화면에 출력되도록 print_score 함수를 생성 후 결과값을 출력해주세요\n",
        "\n",
        "print_even ([1, 3, 2, 10, 12, 11, 15])"
      ],
      "metadata": {
        "id": "sa7UPnqh2z_c"
      }
    },
    {
      "cell_type": "code",
      "source": [
        "def print_even(lst):\n",
        "    for num in lst:\n",
        "        if num % 2 == 0:\n",
        "            print(num)\n",
        "\n",
        "print_even([1, 3, 2, 10, 12, 11, 15])"
      ],
      "metadata": {
        "colab": {
          "base_uri": "https://localhost:8080/"
        },
        "id": "XvcNOCu_2qJT",
        "outputId": "d21015df-9480-47c5-81a2-7fc46437ef66"
      },
      "execution_count": 1,
      "outputs": [
        {
          "output_type": "stream",
          "name": "stdout",
          "text": [
            "2\n",
            "10\n",
            "12\n"
          ]
        }
      ]
    },
    {
      "cell_type": "markdown",
      "source": [
        "----"
      ],
      "metadata": {
        "id": "l_-eVqDH3KTb"
      }
    },
    {
      "cell_type": "markdown",
      "source": [
        "[문제2]\n",
        "\n",
        "비어있는 오즈 (oz) 클래스를 \"정의\" 해보세요."
      ],
      "metadata": {
        "id": "kWl0rCGj3QCh"
      }
    },
    {
      "cell_type": "code",
      "source": [
        "class oz:\n",
        "    pass"
      ],
      "metadata": {
        "id": "ucA5AUWe3SKs"
      },
      "execution_count": 2,
      "outputs": []
    },
    {
      "cell_type": "markdown",
      "source": [
        "----"
      ],
      "metadata": {
        "id": "c5RKgGRS2mS3"
      }
    },
    {
      "cell_type": "markdown",
      "source": [
        "[문제3]\n",
        "\n",
        "오즈(oz) 클래스의 인스턴스를 \"생성\" 하고 이를 coding 변수로 할당해보세요."
      ],
      "metadata": {
        "id": "478tJQgN3VRf"
      }
    },
    {
      "cell_type": "code",
      "source": [
        "coding = oz()"
      ],
      "metadata": {
        "id": "BlDyI9_E3Xcw"
      },
      "execution_count": 3,
      "outputs": []
    },
    {
      "cell_type": "markdown",
      "source": [
        "----"
      ],
      "metadata": {
        "id": "pR7iOTgt3Lp9"
      }
    },
    {
      "cell_type": "markdown",
      "source": [
        "[문제4]\n",
        "\n",
        "오즈(oz) 클래스에 \"클래스 정복\"을 출력하는 기본 생성자를 추가해주세요"
      ],
      "metadata": {
        "id": "oSsQw0lo3Zys"
      }
    },
    {
      "cell_type": "code",
      "source": [
        "class oz:\n",
        "    def __init__(self):\n",
        "        print(\"클래스 정복\")"
      ],
      "metadata": {
        "id": "v7B8xajv3Zhj"
      },
      "execution_count": 4,
      "outputs": []
    },
    {
      "cell_type": "markdown",
      "source": [
        "----"
      ],
      "metadata": {
        "id": "ZMWRFtSL3Lfr"
      }
    },
    {
      "cell_type": "markdown",
      "source": [
        "[문제5]\n",
        "\n",
        "오즈 (oz) 클래스에 (이름, 나이, 코딩레벨)을 받는 생성자를 추가해주세요\n",
        "\n",
        "coding = oz(\"김코\", 30, \"A\")\n",
        "\n"
      ],
      "metadata": {
        "id": "mWdEqQD93gCF"
      }
    },
    {
      "cell_type": "code",
      "source": [
        "class oz:\n",
        "    def __init__(self, 이름, 나이, 코딩레벨):\n",
        "        self.이름 = 이름\n",
        "        self.나이 = 나이\n",
        "        self.코딩레벨 = 코딩레벨\n",
        "\n",
        "coding = oz(\"김코\", 30, \"코딩레벨\")"
      ],
      "metadata": {
        "id": "08Dbuydr3iUh"
      },
      "execution_count": 7,
      "outputs": []
    },
    {
      "cell_type": "markdown",
      "source": [
        "----"
      ],
      "metadata": {
        "id": "4c0auq3t3LSi"
      }
    },
    {
      "cell_type": "markdown",
      "source": [
        "[문제6]\n",
        "\n",
        "5번 문제에서 생성한 인스턴스의 이름, 나이, 성별을 출력해주세요.\n",
        "\n",
        "출력 결과 )\n",
        "이름 : 김코\n",
        "나이 : 30\n",
        "코딩레벨 : A\n",
        "\n",
        "Tips\n",
        "\n",
        "인스턴스 변수에 접근하여 값을 출력하면 됩니다 : )"
      ],
      "metadata": {
        "id": "VO96Jtnq38mw"
      }
    },
    {
      "cell_type": "code",
      "source": [
        "print(f\"이름 : {coding.이름}\")\n",
        "print(f\"나이 : {coding.나이}\")\n",
        "print(f\"코딩레벨 : {coding.코딩레벨}\")"
      ],
      "metadata": {
        "colab": {
          "base_uri": "https://localhost:8080/"
        },
        "id": "6Dp_8lJE4Hum",
        "outputId": "9fa69740-3d9e-4982-e5ac-3a320bde2d08"
      },
      "execution_count": 9,
      "outputs": [
        {
          "output_type": "stream",
          "name": "stdout",
          "text": [
            "이름 : 김코\n",
            "나이 : 30\n",
            "코딩레벨 : 코딩레벨\n"
          ]
        }
      ]
    },
    {
      "cell_type": "markdown",
      "source": [
        "----\n"
      ],
      "metadata": {
        "id": "IRWc6MoJ4O5_"
      }
    },
    {
      "cell_type": "markdown",
      "source": [
        "[문제7]\n",
        "\n",
        "오즈 (oz) 클래스에서 이름, 나이, 성별을 출력하는 who() 메소드를 추가하고 who()메소드를 이용해 아래 출력 결과를 만들어주세요\n",
        "\n",
        "출력 결과 )\n",
        "이름: 김코, 나이: 30, 코딩레벨: A"
      ],
      "metadata": {
        "id": "d42zq4uc4Ufx"
      }
    },
    {
      "cell_type": "code",
      "source": [
        "class oz:\n",
        "    def __init__(self, 이름, 나이, 코딩레벨):\n",
        "        self.이름 = 이름\n",
        "        self.나이 = 나이\n",
        "        self.코딩레벨 = 코딩레벨\n",
        "\n",
        "    def who(self):\n",
        "        print(f\"이름: {self.이름}, 나이: {self.나이}, 코딩레벨: {self.코딩레벨}\")\n",
        "\n",
        "coding = oz(\"김코\", 30, \"A\")\n",
        "coding.who()"
      ],
      "metadata": {
        "colab": {
          "base_uri": "https://localhost:8080/"
        },
        "id": "qEkpeDI24YIw",
        "outputId": "7fc74917-eb3a-4797-d05f-3380e55a7b31"
      },
      "execution_count": 12,
      "outputs": [
        {
          "output_type": "stream",
          "name": "stdout",
          "text": [
            "이름: 김코, 나이: 30, 코딩레벨: A\n"
          ]
        }
      ]
    },
    {
      "cell_type": "markdown",
      "source": [
        "----"
      ],
      "metadata": {
        "id": "XLGqq00D4SNK"
      }
    }
  ]
}