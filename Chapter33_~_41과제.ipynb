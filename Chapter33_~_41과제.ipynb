{
  "nbformat": 4,
  "nbformat_minor": 0,
  "metadata": {
    "colab": {
      "provenance": [],
      "authorship_tag": "ABX9TyNkk3Cr+oVfWSIR5+KajElv",
      "include_colab_link": true
    },
    "kernelspec": {
      "name": "python3",
      "display_name": "Python 3"
    },
    "language_info": {
      "name": "python"
    }
  },
  "cells": [
    {
      "cell_type": "markdown",
      "metadata": {
        "id": "view-in-github",
        "colab_type": "text"
      },
      "source": [
        "<a href=\"https://colab.research.google.com/github/yoon-122/Ozcoding-School-15/blob/main/Chapter33_~_41%EA%B3%BC%EC%A0%9C.ipynb\" target=\"_parent\"><img src=\"https://colab.research.google.com/assets/colab-badge.svg\" alt=\"Open In Colab\"/></a>"
      ]
    },
    {
      "cell_type": "markdown",
      "source": [
        "안녕하세요. 수강생 여러분~! Chapter33 ~ 41 수업은 잘 들으셨나요?\n",
        "\n",
        "Chapter33 ~ 41의 수업 내용을 바탕으로 아래 문제를 풀어주시면 됩니다.\n",
        "\n",
        "\n",
        "[답변 입력 방법]\n",
        "\n",
        "문제 아래에 있는 코드 입력창에 정답코드를 작성하신 후 ▷ 버튼을 클릭해 코드를 실행 해보세요"
      ],
      "metadata": {
        "id": "nmN9KxuNruPt"
      }
    },
    {
      "cell_type": "markdown",
      "source": [
        "[문제 1]\n",
        "\n",
        "사용자로부터 두 개의 숫자를 입력받아 나눗셈을 수행하는 프로그램을 작성하세요.\n",
        "\n",
        "[예외처리]\n",
        "\n",
        "입력 값이 숫자가 아닐 때 발생할 수 있는 ValueError\n",
        "나누는 수가 0일 때 발생할 수 있는 ZeroDivisionError\n",
        "위 2가지 예외처리 후 사용자에게 이해하기 쉬운 메시지 작성 후 출력되도록 코드를 작성"
      ],
      "metadata": {
        "id": "JAqdcmp3r2mw"
      }
    },
    {
      "cell_type": "code",
      "execution_count": 1,
      "metadata": {
        "colab": {
          "base_uri": "https://localhost:8080/"
        },
        "id": "mB_EwAU4rk3y",
        "outputId": "0dbd6228-5e31-42a1-a25b-5e1f8042a015"
      },
      "outputs": [
        {
          "output_type": "stream",
          "name": "stdout",
          "text": [
            "첫 번째 숫자를 입력하세요: 10\n",
            "두 번째 숫자를 입력하세요: 2\n",
            "결과: 10.0 ÷ 2.0 = 5.0\n"
          ]
        }
      ],
      "source": [
        "try:\n",
        "    # 사용자로부터 두 숫자 입력받기\n",
        "    num1 = float(input(\"첫 번째 숫자를 입력하세요: \"))\n",
        "    num2 = float(input(\"두 번째 숫자를 입력하세요: \"))\n",
        "\n",
        "    # 나눗셈 수행\n",
        "    result = num1 / num2\n",
        "    print(f\"결과: {num1} ÷ {num2} = {result}\")\n",
        "\n",
        "except ValueError:\n",
        "    print(\"오류: 숫자를 입력해주세요. 문자나 특수문자는 입력할 수 없습니다.\")\n",
        "\n",
        "except ZeroDivisionError:\n",
        "    print(\"오류: 0으로 나눌 수 없습니다. 두 번째 숫자를 0이 아닌 값으로 입력해주세요.\")"
      ]
    },
    {
      "cell_type": "markdown",
      "source": [
        "----"
      ],
      "metadata": {
        "id": "FRW9WT4zsI_X"
      }
    },
    {
      "cell_type": "markdown",
      "source": [
        "문제 2]\n",
        "\n",
        "파일을 읽어서 내용을 출력하는 프로그램을 작성하세요.\n",
        "\n",
        "파일이 존재하지 않을 때 발생하는 FileNotFoundError를 처리\n",
        "파일이 존재하지 않을 경우 \"파일을 찾을 수 없습니다.\"라는 메시지를 출력"
      ],
      "metadata": {
        "id": "Ned_cZIEsLbb"
      }
    },
    {
      "cell_type": "code",
      "source": [
        "try:\n",
        "    # 파일 이름 입력받기\n",
        "    filename = input(\"읽을 파일 이름을 입력하세요: \")\n",
        "\n",
        "    # 파일 열고 읽기\n",
        "    with open(filename, 'r', encoding='utf-8') as file:\n",
        "        content = file.read()\n",
        "        print(\"=== 파일 내용 ===\")\n",
        "        print(content)\n",
        "\n",
        "except FileNotFoundError:\n",
        "    print(\"파일을 찾을 수 없습니다.\")"
      ],
      "metadata": {
        "colab": {
          "base_uri": "https://localhost:8080/"
        },
        "id": "3dCWEO5gsH5j",
        "outputId": "2838622e-5052-49bf-8cc5-824450c1fefc"
      },
      "execution_count": 3,
      "outputs": [
        {
          "output_type": "stream",
          "name": "stdout",
          "text": [
            "읽을 파일 이름을 입력하세요: file.txt\n",
            "파일을 찾을 수 없습니다.\n"
          ]
        }
      ]
    },
    {
      "cell_type": "markdown",
      "source": [
        "----"
      ],
      "metadata": {
        "id": "bMwSaqvusgFH"
      }
    },
    {
      "cell_type": "markdown",
      "source": [
        "[문제 3]\n",
        "\n",
        "사용자로부터 여러 개의 숫자를 입력받아 리스트에 저장한 후, 사용자가 'done'이라고 입력할 때까지 계속 입력받으세요.\n",
        "\n",
        "입력 중 숫자가 아닌 값이 입력되면 ValueError를 처리\n",
        "숫자 외 값이 입력된 경우 어떤 값이 잘못 입력되었는지 사용자에게 알려주는 문구 출력\n",
        "(예: f\"잘못된 값: {변수}. 숫자를 입력해주세요.\")"
      ],
      "metadata": {
        "id": "qcVkRxeusfRy"
      }
    },
    {
      "cell_type": "code",
      "source": [
        "numbers = []  # 숫자를 저장할 리스트\n",
        "\n",
        "print(\"숫자를 입력하세요 (종료하려면 'done' 입력):\")\n",
        "\n",
        "while True:\n",
        "    user_input = input(\"숫자 입력: \")\n",
        "\n",
        "    # 'done' 입력 시 종료\n",
        "    if user_input.lower() == 'done':\n",
        "        break\n",
        "\n",
        "    try:\n",
        "        # 입력값을 숫자로 변환\n",
        "        number = float(user_input)\n",
        "        numbers.append(number)\n",
        "        print(f\"{number}이(가) 리스트에 추가되었습니다.\")\n",
        "\n",
        "    except ValueError:\n",
        "        print(f\"잘못된 값: {user_input}. 숫자를 입력해주세요.\")\n",
        "\n",
        "# 최종 결과 출력\n",
        "print(f\"\\n입력된 숫자들: {numbers}\")\n",
        "print(f\"총 {len(numbers)}개의 숫자가 입력되었습니다.\")"
      ],
      "metadata": {
        "colab": {
          "base_uri": "https://localhost:8080/"
        },
        "id": "3jJx37C3sifV",
        "outputId": "9ecc11bd-7eb3-487b-9bb9-9b59ae3eb03b"
      },
      "execution_count": 4,
      "outputs": [
        {
          "output_type": "stream",
          "name": "stdout",
          "text": [
            "숫자를 입력하세요 (종료하려면 'done' 입력):\n",
            "숫자 입력: 10\n",
            "10.0이(가) 리스트에 추가되었습니다.\n",
            "숫자 입력: 20\n",
            "20.0이(가) 리스트에 추가되었습니다.\n",
            "숫자 입력: 30\n",
            "30.0이(가) 리스트에 추가되었습니다.\n",
            "숫자 입력: 40\n",
            "40.0이(가) 리스트에 추가되었습니다.\n",
            "숫자 입력: 50\n",
            "50.0이(가) 리스트에 추가되었습니다.\n",
            "숫자 입력: 60\n",
            "60.0이(가) 리스트에 추가되었습니다.\n",
            "숫자 입력: 10\n",
            "10.0이(가) 리스트에 추가되었습니다.\n",
            "숫자 입력: \n",
            "잘못된 값: . 숫자를 입력해주세요.\n",
            "숫자 입력: done\n",
            "\n",
            "입력된 숫자들: [10.0, 20.0, 30.0, 40.0, 50.0, 60.0, 10.0]\n",
            "총 7개의 숫자가 입력되었습니다.\n"
          ]
        }
      ]
    },
    {
      "cell_type": "markdown",
      "source": [
        "----"
      ],
      "metadata": {
        "id": "MwW00mKss-Ky"
      }
    },
    {
      "cell_type": "markdown",
      "source": [
        "[문제 4]\n",
        "\n",
        "사용자 정의 예외 NegativeNumberError를 생성하고, 사용자로부터 숫자를 입력받아 음수일 경우 NegativeNumberError를 발생시키는 프로그램을 작성하세요.\n",
        "\n",
        "예외 처리 구문을 사용하여 음수 입력 시 \"양수를 입력해주세요.\"라는 메시지를 출력"
      ],
      "metadata": {
        "id": "z2fc54wAtEWA"
      }
    },
    {
      "cell_type": "code",
      "source": [
        "# 사용자 정의 예외 클래스 생성\n",
        "class NegativeNumberError(Exception):\n",
        "    pass\n",
        "\n",
        "try:\n",
        "    # 숫자 입력받기\n",
        "    number = float(input(\"양수를 입력하세요: \"))\n",
        "\n",
        "    # 음수인지 확인\n",
        "    if number < 0:\n",
        "        raise NegativeNumberError(\"음수가 입력되었습니다!\")\n",
        "\n",
        "    print(f\"입력한 숫자: {number}\")\n",
        "\n",
        "except NegativeNumberError:\n",
        "    print(\"양수를 입력해주세요.\")\n",
        "\n",
        "except ValueError:\n",
        "    print(\"숫자를 입력해주세요.\")"
      ],
      "metadata": {
        "colab": {
          "base_uri": "https://localhost:8080/"
        },
        "id": "7dXL-XDFs1EH",
        "outputId": "5b5ff4f4-d75f-486f-a1da-8cd5b58be20f"
      },
      "execution_count": 5,
      "outputs": [
        {
          "output_type": "stream",
          "name": "stdout",
          "text": [
            "양수를 입력하세요: 12\n",
            "입력한 숫자: 12.0\n"
          ]
        }
      ]
    },
    {
      "cell_type": "markdown",
      "source": [
        "----"
      ],
      "metadata": {
        "id": "47tiIRe0t6t_"
      }
    },
    {
      "cell_type": "markdown",
      "source": [
        "\n",
        "[문제 5]\n",
        "\n",
        "datetime 모듈을 사용하여 현재 날짜와 시간을 출력하는 프로그램을 작성하세요.\n",
        "\n",
        "또한, 사용자로부터 태어난 년도를 입력받아 현재 나이를 계산하여 출력하세요."
      ],
      "metadata": {
        "id": "YePQJJvut-HQ"
      }
    },
    {
      "cell_type": "code",
      "source": [
        "from datetime import datetime\n",
        "\n",
        "# 현재 날짜와 시간 출력\n",
        "now = datetime.now()\n",
        "print(\"=== 현재 날짜와 시간 ===\")\n",
        "print(f\"현재 날짜: {now.year}년 {now.month}월 {now.day}일\")\n",
        "print(f\"현재 시간: {now.hour}시 {now.minute}분 {now.second}초\")\n",
        "print(f\"전체: {now}\")\n",
        "\n",
        "print(\"\\n\" + \"=\"*30 + \"\\n\")\n",
        "\n",
        "# 나이 계산\n",
        "birth_year = int(input(\"태어난 년도를 입력하세요 (예: 2000): \"))\n",
        "current_year = now.year\n",
        "age = current_year - birth_year\n",
        "\n",
        "print(f\"\\n태어난 년도: {birth_year}년\")\n",
        "print(f\"현재 년도: {current_year}년\")\n",
        "print(f\"당신의 나이는 만 {age}세입니다.\")"
      ],
      "metadata": {
        "colab": {
          "base_uri": "https://localhost:8080/"
        },
        "id": "XAUAcnLIt0OY",
        "outputId": "bb79166c-ece7-4925-fbda-e30eaa9f1390"
      },
      "execution_count": 6,
      "outputs": [
        {
          "output_type": "stream",
          "name": "stdout",
          "text": [
            "=== 현재 날짜와 시간 ===\n",
            "현재 날짜: 2025년 10월 30일\n",
            "현재 시간: 1시 26분 33초\n",
            "전체: 2025-10-30 01:26:33.342185\n",
            "\n",
            "==============================\n",
            "\n",
            "태어난 년도를 입력하세요 (예: 2000): 2000\n",
            "\n",
            "태어난 년도: 2000년\n",
            "현재 년도: 2025년\n",
            "당신의 나이는 만 25세입니다.\n"
          ]
        }
      ]
    },
    {
      "cell_type": "markdown",
      "source": [
        "----\n"
      ],
      "metadata": {
        "id": "7oLQi9hVuXs9"
      }
    },
    {
      "cell_type": "markdown",
      "source": [
        "[문제 6]\n",
        "\n",
        "requests 모듈을 사용하여, 웹 페이지의 HTML을 가져오는 간단한 웹 스크레이퍼를 작성하세요.\n",
        "\n",
        "'https://kream.co.kr/'에서\n",
        "데이터를 가져와서 상태 코드와 HTML의 첫 100자를 출력하세요.\n",
        "(실습 전 requests 모듈을 설치해야 함)"
      ],
      "metadata": {
        "id": "YxybuSIpuZJc"
      }
    },
    {
      "cell_type": "code",
      "source": [
        "import requests\n",
        "\n",
        "# 웹 페이지 URL\n",
        "url = 'https://kream.co.kr/'\n",
        "\n",
        "try:\n",
        "    # 웹 페이지 데이터 가져오기\n",
        "    response = requests.get(url)\n",
        "\n",
        "    # 상태 코드 출력\n",
        "    print(f\"상태 코드: {response.status_code}\")\n",
        "\n",
        "    # 상태 코드 설명\n",
        "    if response.status_code == 200:\n",
        "        print(\"✅ 요청 성공!\")\n",
        "    else:\n",
        "        print(\"⚠️ 요청 실패\")\n",
        "\n",
        "    print(\"\\n\" + \"=\"*50)\n",
        "\n",
        "    # HTML의 첫 100자 출력\n",
        "    html_content = response.text\n",
        "    print(\"\\n=== HTML의 첫 100자 ===\")\n",
        "    print(html_content[:100])\n",
        "\n",
        "    print(\"\\n\" + \"=\"*50)\n",
        "    print(f\"\\n전체 HTML 길이: {len(html_content)}자\")\n",
        "\n",
        "except requests.exceptions.RequestException as e:\n",
        "    print(f\"요청 중 오류 발생: {e}\")"
      ],
      "metadata": {
        "colab": {
          "base_uri": "https://localhost:8080/"
        },
        "id": "FPpBeUjjuUHr",
        "outputId": "44d1c5df-843a-4660-ee86-45c767cb6ec2"
      },
      "execution_count": 7,
      "outputs": [
        {
          "output_type": "stream",
          "name": "stdout",
          "text": [
            "상태 코드: 500\n",
            "⚠️ 요청 실패\n",
            "\n",
            "==================================================\n",
            "\n",
            "=== HTML의 첫 100자 ===\n",
            "<!DOCTYPE html>\n",
            "<html lang=\"ko\">\n",
            "<head>\n",
            "<meta name=\"robots\" content=\"noindex, nofollow\" />\n",
            "<meta htt\n",
            "\n",
            "==================================================\n",
            "\n",
            "전체 HTML 길이: 5518자\n"
          ]
        }
      ]
    },
    {
      "cell_type": "markdown",
      "source": [
        "----"
      ],
      "metadata": {
        "id": "eEDNTULdwiR0"
      }
    },
    {
      "cell_type": "markdown",
      "source": [
        "\n",
        "[문제 7]\n",
        "\n",
        "함수 실행 시간을 측정하는 데코레이터 timer_decorator를 작성하세요.\n",
        "\n",
        "임의의 함수가 실행되는 시간을 측정하여 \"함수 실행 시간: x.xx초\" 형태로 출력하세요."
      ],
      "metadata": {
        "id": "DbG0tGktwmy0"
      }
    },
    {
      "cell_type": "code",
      "source": [
        "import time\n",
        "\n",
        "# 데코레이터 정의\n",
        "def timer_decorator(func):\n",
        "    def wrapper(*args, **kwargs):\n",
        "        # 시작 시간 기록\n",
        "        start_time = time.time()\n",
        "\n",
        "        # 원래 함수 실행\n",
        "        result = func(*args, **kwargs)\n",
        "\n",
        "        # 종료 시간 기록\n",
        "        end_time = time.time()\n",
        "\n",
        "        # 실행 시간 계산\n",
        "        execution_time = end_time - start_time\n",
        "\n",
        "        print(f\"함수 실행 시간: {execution_time:.2f}초\")\n",
        "\n",
        "        return result\n",
        "\n",
        "    return wrapper\n",
        "\n",
        "# 데코레이터 사용 예시\n",
        "@timer_decorator\n",
        "def slow_function():\n",
        "    print(\"함수 실행 중...\")\n",
        "    time.sleep(2)  # 2초 대기\n",
        "    print(\"함수 실행 완료!\")\n",
        "    return \"결과값\"\n",
        "\n",
        "@timer_decorator\n",
        "def calculate_sum(n):\n",
        "    print(f\"1부터 {n}까지의 합 계산 중...\")\n",
        "    total = sum(range(1, n+1))\n",
        "    return total\n",
        "\n",
        "# 함수 호출\n",
        "print(\"=== 첫 번째 함수 실행 ===\")\n",
        "result1 = slow_function()\n",
        "print()\n",
        "\n",
        "print(\"=== 두 번째 함수 실행 ===\")\n",
        "result2 = calculate_sum(1000000)\n",
        "print(f\"결과: {result2}\")"
      ],
      "metadata": {
        "colab": {
          "base_uri": "https://localhost:8080/"
        },
        "id": "TOU9cxI7whgw",
        "outputId": "07c1ff9c-6efe-429b-9cbb-aec012a38df0"
      },
      "execution_count": 8,
      "outputs": [
        {
          "output_type": "stream",
          "name": "stdout",
          "text": [
            "=== 첫 번째 함수 실행 ===\n",
            "함수 실행 중...\n",
            "함수 실행 완료!\n",
            "함수 실행 시간: 2.00초\n",
            "\n",
            "=== 두 번째 함수 실행 ===\n",
            "1부터 1000000까지의 합 계산 중...\n",
            "함수 실행 시간: 0.02초\n",
            "결과: 500000500000\n"
          ]
        }
      ]
    },
    {
      "cell_type": "markdown",
      "source": [
        "----"
      ],
      "metadata": {
        "id": "_wq2mR3LxUXK"
      }
    },
    {
      "cell_type": "markdown",
      "source": [
        "[문제 8]\n",
        "\n",
        "여러분이 자주 사용하는 수학적 연산\n",
        "(예: 삼각형 넓이, 원의 넓이, 직육면체의 넓이)을 수행하는 함수들을 포함하는 mymath.py라는 이름의 모듈을 만드세요.\n",
        "\n",
        "이 모듈을 사용하여 작성된 함수들을 실제로 임포트하고 사용하는 간단한 프로그램을 작성하세요."
      ],
      "metadata": {
        "id": "KuBjF099xXlo"
      }
    },
    {
      "cell_type": "code",
      "source": [
        "%%writefile mymath.py\n",
        "# mymath.py - 수학 연산 모듈\n",
        "\n",
        "import math\n",
        "\n",
        "def triangle_area(base, height):\n",
        "    \"\"\"삼각형의 넓이를 계산 (밑변 * 높이 / 2)\"\"\"\n",
        "    return (base * height) / 2\n",
        "\n",
        "def circle_area(radius):\n",
        "    \"\"\"원의 넓이를 계산 (π * 반지름²)\"\"\"\n",
        "    return math.pi * (radius ** 2)\n",
        "\n",
        "def rectangle_area(length, width, height):\n",
        "    \"\"\"직육면체의 겉넓이를 계산 (2 * (lw + lh + wh))\"\"\"\n",
        "    return 2 * (length * width + length * height + width * height)\n",
        "\n",
        "def rectangle_volume(length, width, height):\n",
        "    \"\"\"직육면체의 부피를 계산 (가로 * 세로 * 높이)\"\"\"\n",
        "    return length * width * height\n",
        "\n",
        "# 모듈이 직접 실행될 때만 실행되는 코드\n",
        "if __name__ == \"__main__\":\n",
        "    print(\"mymath 모듈이 직접 실행되었습니다.\")"
      ],
      "metadata": {
        "colab": {
          "base_uri": "https://localhost:8080/"
        },
        "id": "vVXSY-UxxQYB",
        "outputId": "3a9ddf81-a992-404d-bc73-05354f0b44b6"
      },
      "execution_count": 9,
      "outputs": [
        {
          "output_type": "stream",
          "name": "stdout",
          "text": [
            "Writing mymath.py\n"
          ]
        }
      ]
    },
    {
      "cell_type": "code",
      "source": [
        "# mymath 모듈 임포트\n",
        "import mymath\n",
        "\n",
        "print(\"=== mymath 모듈 사용 예제 ===\\n\")\n",
        "\n",
        "# 1. 삼각형 넓이 계산\n",
        "base = 10\n",
        "height = 5\n",
        "triangle = mymath.triangle_area(base, height)\n",
        "print(f\"1. 삼각형 넓이\")\n",
        "print(f\"   밑변: {base}, 높이: {height}\")\n",
        "print(f\"   넓이: {triangle}\\n\")\n",
        "\n",
        "# 2. 원의 넓이 계산\n",
        "radius = 7\n",
        "circle = mymath.circle_area(radius)\n",
        "print(f\"2. 원의 넓이\")\n",
        "print(f\"   반지름: {radius}\")\n",
        "print(f\"   넓이: {circle:.2f}\\n\")\n",
        "\n",
        "# 3. 직육면체의 겉넓이\n",
        "length = 10\n",
        "width = 5\n",
        "height = 3\n",
        "rect_area = mymath.rectangle_area(length, width, height)\n",
        "print(f\"3. 직육면체의 겉넓이\")\n",
        "print(f\"   가로: {length}, 세로: {width}, 높이: {height}\")\n",
        "print(f\"   겉넓이: {rect_area}\\n\")\n",
        "\n",
        "# 4. 직육면체의 부피\n",
        "rect_volume = mymath.rectangle_volume(length, width, height)\n",
        "print(f\"4. 직육면체의 부피\")\n",
        "print(f\"   가로: {length}, 세로: {width}, 높이: {height}\")\n",
        "print(f\"   부피: {rect_volume}\")"
      ],
      "metadata": {
        "colab": {
          "base_uri": "https://localhost:8080/"
        },
        "id": "mbEhTE2oxzxX",
        "outputId": "989865c0-ccfb-4b78-b0d8-63348b812c8b"
      },
      "execution_count": 10,
      "outputs": [
        {
          "output_type": "stream",
          "name": "stdout",
          "text": [
            "=== mymath 모듈 사용 예제 ===\n",
            "\n",
            "1. 삼각형 넓이\n",
            "   밑변: 10, 높이: 5\n",
            "   넓이: 25.0\n",
            "\n",
            "2. 원의 넓이\n",
            "   반지름: 7\n",
            "   넓이: 153.94\n",
            "\n",
            "3. 직육면체의 겉넓이\n",
            "   가로: 10, 세로: 5, 높이: 3\n",
            "   겉넓이: 190\n",
            "\n",
            "4. 직육면체의 부피\n",
            "   가로: 10, 세로: 5, 높이: 3\n",
            "   부피: 150\n"
          ]
        }
      ]
    },
    {
      "cell_type": "markdown",
      "source": [
        "----"
      ],
      "metadata": {
        "id": "RcvHOeR8yojR"
      }
    },
    {
      "cell_type": "markdown",
      "source": [
        "[문제 9]\n",
        "\n",
        "animals라는 패키지를 만들고, 이 패키지 내에 mammals, birds라는 두 개의 서브 모듈을 생성하세요.\n",
        "\n",
        "각 모듈에는 최소한 한 개 이상의 동물에 관한 클래스를 정의하세요\n",
        "(예: mammals에는 Dog, birds에는 Eagle)\n",
        "이 패키지와 모듈을 사용하여 동물들의 정보를 출력하는 프로그램을 작성\n",
        "폴더 및 파일 구조\n",
        "\n",
        "animals/(폴더)\n",
        "├── __init__.py\n",
        "├── mammals.py\n",
        "└── birds.py"
      ],
      "metadata": {
        "id": "nFgnHfuVzB6Y"
      }
    },
    {
      "cell_type": "code",
      "source": [
        "import os\n",
        "\n",
        "# animals 폴더 생성\n",
        "os.makedirs('animals', exist_ok=True)\n",
        "print(\"✅ animals 폴더가 생성되었습니다!\")"
      ],
      "metadata": {
        "colab": {
          "base_uri": "https://localhost:8080/"
        },
        "id": "gGhAkG5bzMVf",
        "outputId": "34f276a1-2bf0-4166-e603-ae24a15bdcda"
      },
      "execution_count": 18,
      "outputs": [
        {
          "output_type": "stream",
          "name": "stdout",
          "text": [
            "✅ animals 폴더가 생성되었습니다!\n"
          ]
        }
      ]
    },
    {
      "cell_type": "code",
      "source": [
        "%%writefile animals/mammals.py\n",
        "# mammals.py - 포유류 동물 클래스\n",
        "\n",
        "class Dog:\n",
        "    def __init__(self, name, breed):\n",
        "        self.name = name\n",
        "        self.breed = breed\n",
        "        self.animal_type = \"포유류\"\n",
        "\n",
        "    def bark(self):\n",
        "        return \"멍멍!\"\n",
        "\n",
        "    def info(self):\n",
        "        return f\"이름: {self.name}, 품종: {self.breed}, 분류: {self.animal_type}\"\n",
        "\n",
        "class Cat:\n",
        "    def __init__(self, name, color):\n",
        "        self.name = name\n",
        "        self.color = color\n",
        "        self.animal_type = \"포유류\"\n",
        "\n",
        "    def meow(self):\n",
        "        return \"야옹~\"\n",
        "\n",
        "    def info(self):\n",
        "        return f\"이름: {self.name}, 색상: {self.color}, 분류: {self.animal_type}\""
      ],
      "metadata": {
        "colab": {
          "base_uri": "https://localhost:8080/"
        },
        "id": "xjtxKhvX1Kua",
        "outputId": "6c8bb796-e0ac-4fdb-98c2-74b94839a484"
      },
      "execution_count": 19,
      "outputs": [
        {
          "output_type": "stream",
          "name": "stdout",
          "text": [
            "Writing animals/mammals.py\n"
          ]
        }
      ]
    },
    {
      "cell_type": "code",
      "source": [
        "%%writefile animals/birds.py\n",
        "# birds.py - 조류 동물 클래스\n",
        "\n",
        "class Eagle:\n",
        "    def __init__(self, name, wingspan):\n",
        "        self.name = name\n",
        "        self.wingspan = wingspan\n",
        "        self.animal_type = \"조류\"\n",
        "\n",
        "    def fly(self):\n",
        "        return \"높이 날아오릅니다!\"\n",
        "\n",
        "    def info(self):\n",
        "        return f\"이름: {self.name}, 날개 길이: {self.wingspan}m, 분류: {self.animal_type}\"\n",
        "\n",
        "class Parrot:\n",
        "    def __init__(self, name, color):\n",
        "        self.name = name\n",
        "        self.color = color\n",
        "        self.animal_type = \"조류\"\n",
        "\n",
        "    def speak(self):\n",
        "        return \"안녕하세요!\"\n",
        "\n",
        "    def info(self):\n",
        "        return f\"이름: {self.name}, 색상: {self.color}, 분류: {self.animal_type}\""
      ],
      "metadata": {
        "colab": {
          "base_uri": "https://localhost:8080/"
        },
        "id": "IAnKcJ9P1MVm",
        "outputId": "64fc74e7-47b6-4cfe-b674-1ab94d42f022"
      },
      "execution_count": 20,
      "outputs": [
        {
          "output_type": "stream",
          "name": "stdout",
          "text": [
            "Writing animals/birds.py\n"
          ]
        }
      ]
    },
    {
      "cell_type": "code",
      "source": [
        "%%writefile animals/__init__.py\n",
        "# __init__.py - animals 패키지 초기화 파일\n",
        "print(\"animals 패키지가 로드되었습니다.\")"
      ],
      "metadata": {
        "colab": {
          "base_uri": "https://localhost:8080/"
        },
        "id": "O3mcwg3R1OLX",
        "outputId": "466a0eb7-c90c-4f9b-a4e5-5377521d3e56"
      },
      "execution_count": 21,
      "outputs": [
        {
          "output_type": "stream",
          "name": "stdout",
          "text": [
            "Writing animals/__init__.py\n"
          ]
        }
      ]
    },
    {
      "cell_type": "code",
      "source": [
        "# animals 패키지 사용하기\n",
        "from animals.mammals import Dog, Cat\n",
        "from animals.birds import Eagle, Parrot\n",
        "\n",
        "print(\"\\n\" + \"=\"*50)\n",
        "print(\"=== Animals 패키지 사용 예제 ===\")\n",
        "print(\"=\"*50 + \"\\n\")\n",
        "\n",
        "# 포유류 동물들\n",
        "print(\"【 포유류 (Mammals) 】\")\n",
        "print(\"-\" * 40)\n",
        "\n",
        "dog = Dog(\"멍멍이\", \"진돗개\")\n",
        "print(dog.info())\n",
        "print(f\"울음소리: {dog.bark()}\")\n",
        "print()\n",
        "\n",
        "cat = Cat(\"나비\", \"하얀색\")\n",
        "print(cat.info())\n",
        "print(f\"울음소리: {cat.meow()}\")\n",
        "\n",
        "print(\"\\n\" + \"=\"*50 + \"\\n\")\n",
        "\n",
        "# 조류 동물들\n",
        "print(\"【 조류 (Birds) 】\")\n",
        "print(\"-\" * 40)\n",
        "\n",
        "eagle = Eagle(\"독수리\", 2.3)\n",
        "print(eagle.info())\n",
        "print(f\"특징: {eagle.fly()}\")\n",
        "print()\n",
        "\n",
        "parrot = Parrot(\"앵무\", \"빨간색\")\n",
        "print(parrot.info())\n",
        "print(f\"말하기: {parrot.speak()}\")\n",
        "\n",
        "print(\"\\n\" + \"=\"*50)"
      ],
      "metadata": {
        "colab": {
          "base_uri": "https://localhost:8080/"
        },
        "id": "54l6r-q_1QKE",
        "outputId": "12d10fc1-743c-46e0-ffb5-fd03aeda60b8"
      },
      "execution_count": 22,
      "outputs": [
        {
          "output_type": "stream",
          "name": "stdout",
          "text": [
            "animals 패키지가 로드되었습니다.\n",
            "\n",
            "==================================================\n",
            "=== Animals 패키지 사용 예제 ===\n",
            "==================================================\n",
            "\n",
            "【 포유류 (Mammals) 】\n",
            "----------------------------------------\n",
            "이름: 멍멍이, 품종: 진돗개, 분류: 포유류\n",
            "울음소리: 멍멍!\n",
            "\n",
            "이름: 나비, 색상: 하얀색, 분류: 포유류\n",
            "울음소리: 야옹~\n",
            "\n",
            "==================================================\n",
            "\n",
            "【 조류 (Birds) 】\n",
            "----------------------------------------\n",
            "이름: 독수리, 날개 길이: 2.3m, 분류: 조류\n",
            "특징: 높이 날아오릅니다!\n",
            "\n",
            "이름: 앵무, 색상: 빨간색, 분류: 조류\n",
            "말하기: 안녕하세요!\n",
            "\n",
            "==================================================\n"
          ]
        }
      ]
    },
    {
      "cell_type": "code",
      "source": [],
      "metadata": {
        "id": "Y1dnsyQA1R2z"
      },
      "execution_count": null,
      "outputs": []
    }
  ]
}