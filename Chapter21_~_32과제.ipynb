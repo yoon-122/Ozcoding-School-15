{
  "nbformat": 4,
  "nbformat_minor": 0,
  "metadata": {
    "colab": {
      "provenance": [],
      "authorship_tag": "ABX9TyMKK8YzS6qF5X3D1gfFSwZZ",
      "include_colab_link": true
    },
    "kernelspec": {
      "name": "python3",
      "display_name": "Python 3"
    },
    "language_info": {
      "name": "python"
    }
  },
  "cells": [
    {
      "cell_type": "markdown",
      "metadata": {
        "id": "view-in-github",
        "colab_type": "text"
      },
      "source": [
        "<a href=\"https://colab.research.google.com/github/yoon-122/Ozcoding-School-15/blob/main/Chapter21_~_32%EA%B3%BC%EC%A0%9C.ipynb\" target=\"_parent\"><img src=\"https://colab.research.google.com/assets/colab-badge.svg\" alt=\"Open In Colab\"/></a>"
      ]
    },
    {
      "cell_type": "markdown",
      "source": [
        "안녕하세요. 수강생 여러분~! Chapter21 ~ 32 수업은 잘 들으셨나요?\n",
        "\n",
        "Chapter21 ~ 32의 수업 내용을 바탕으로 아래 문제를 풀어주시면 됩니다.\n",
        "\n",
        "\n",
        "[답변 입력 방법]\n",
        "\n",
        "문제 아래에 있는 코드 입력창에 정답코드를 작성하신 후 ▷ 버튼을 클릭해 코드를 실행 해보세요\n"
      ],
      "metadata": {
        "id": "rJRHJgXC6mCH"
      }
    },
    {
      "cell_type": "markdown",
      "source": [
        "----"
      ],
      "metadata": {
        "id": "yjpa_Lr36nWt"
      }
    },
    {
      "cell_type": "markdown",
      "source": [
        "\n",
        "[문제 1] 사용자로부터 이름과 나이를 입력 받아, \"안녕하세요, [이름]님! 당신은 [나이]살입니다.\"라고 출력하는 함수 greet_user를 작성하세요."
      ],
      "metadata": {
        "id": "lQnNV3rI6vLG"
      }
    },
    {
      "cell_type": "code",
      "source": [
        "def greet_user():\n",
        "    A = input(\"이름과 나이를 순서대로,를 사용해 입력해주세요: \"). split(\",\")\n",
        "    이름 = A[0]\n",
        "    나이 = A[1]\n",
        "    print(f\"안녕하세요, {이름}님! 당신은 {나이}살입니다.\")\n",
        "\n",
        "greet_user()"
      ],
      "metadata": {
        "colab": {
          "base_uri": "https://localhost:8080/"
        },
        "id": "rvwAjFdY6xWE",
        "outputId": "59e089d3-1f40-44f7-8286-152833d9724c"
      },
      "execution_count": null,
      "outputs": [
        {
          "output_type": "stream",
          "name": "stdout",
          "text": [
            "이름과 나이를 순서대로,를 사용해 입력해주세요: 윤영훈, 26\n",
            "안녕하세요, 윤영훈님! 당신은  26살입니다.\n"
          ]
        }
      ]
    },
    {
      "cell_type": "markdown",
      "source": [
        "----"
      ],
      "metadata": {
        "id": "nBVaZHRF6xLN"
      }
    },
    {
      "cell_type": "markdown",
      "source": [
        "[문제 2] 여러 숫자를 입력받아 그 합계를 반환하는 함수 sum_numbers를 작성하세요. 이 때, 가변 매개변수를 사용하세요."
      ],
      "metadata": {
        "id": "zul5IVSC7raq"
      }
    },
    {
      "cell_type": "code",
      "source": [
        "def sum_nubers(*num):\n",
        "    num = map(int,input(\"더하실 숫자를 콤마로 구분하여 작성해 주세요\").split(\",\"))\n",
        "    return sum(num)\n",
        "sum_nubers()"
      ],
      "metadata": {
        "colab": {
          "base_uri": "https://localhost:8080/"
        },
        "id": "ta20mGs17nZU",
        "outputId": "3d1867e4-ae86-4b7d-da0d-2358fd7648bf"
      },
      "execution_count": null,
      "outputs": [
        {
          "name": "stdout",
          "output_type": "stream",
          "text": [
            "더하실 숫자를 콤마로 구분하여 작성해 주세요1,15,16,78,15\n"
          ]
        },
        {
          "output_type": "execute_result",
          "data": {
            "text/plain": [
              "125"
            ]
          },
          "metadata": {},
          "execution_count": 5
        }
      ]
    },
    {
      "cell_type": "markdown",
      "source": [
        "----"
      ],
      "metadata": {
        "id": "XdAnC9io7kM7"
      }
    },
    {
      "cell_type": "markdown",
      "source": [
        "[문제 3] 사용자의 이름을 출력하는 함수 print_name을 작성하세요. 만약 이름이 주어지지 않았다면, 기본값으로 \"익명\"을 사용하세요."
      ],
      "metadata": {
        "id": "h5Hc49zE75u3"
      }
    },
    {
      "cell_type": "code",
      "source": [
        "def print_name(name=\"익명\"):\n",
        "    이름 = input(\"사용자의 이름을 입력하세요\")\n",
        "    if 이름 != \"\":\n",
        "        name = 이름\n",
        "    print(name)\n",
        "print_name()\n"
      ],
      "metadata": {
        "colab": {
          "base_uri": "https://localhost:8080/"
        },
        "id": "6txqBwkg76nz",
        "outputId": "ceefc5b3-c0b4-46f3-96b7-775c955bd8ce"
      },
      "execution_count": null,
      "outputs": [
        {
          "output_type": "stream",
          "name": "stdout",
          "text": [
            "사용자의 이름을 입력하세요 익명\n",
            " 익명\n"
          ]
        }
      ]
    },
    {
      "cell_type": "markdown",
      "source": [
        "----"
      ],
      "metadata": {
        "id": "-L7wFsjm7mbs"
      }
    },
    {
      "cell_type": "markdown",
      "source": [
        "[문제 4] 사용자의 이름, 나이, 성별을 출력하는 함수 print_info를 작성하세요. 이 때, 모든 매개변수는 키워드 매개변수로만 받도록 하세요."
      ],
      "metadata": {
        "id": "kP2HhzhO8ErM"
      }
    },
    {
      "cell_type": "code",
      "source": [
        "def print_info(*, name=\"이름\", age=\"나이\", gender=\"성별\"):\n",
        "    print(f\"{name},{age},{gender}\")\n",
        "\n",
        "print_info(name=\"윤영훈\", age=\"26\", gender=\"남자\")\n",
        "print_info()"
      ],
      "metadata": {
        "colab": {
          "base_uri": "https://localhost:8080/"
        },
        "id": "D674dvQ78GvX",
        "outputId": "ca0e6732-f420-4367-fb81-2a0ef1095f0f"
      },
      "execution_count": 20,
      "outputs": [
        {
          "output_type": "stream",
          "name": "stdout",
          "text": [
            "윤영훈,26,남자\n",
            "이름,나이,성별\n"
          ]
        }
      ]
    },
    {
      "cell_type": "markdown",
      "source": [
        "----"
      ],
      "metadata": {
        "id": "royaeFdu7mFu"
      }
    },
    {
      "cell_type": "markdown",
      "source": [
        "[문제 5] 두 개의 정수를 받아 합을 반환하는 함수 add를 작성하세요. 매개변수와 반환값에 타입 어노테이션을 추가하세요."
      ],
      "metadata": {
        "id": "baWRvnC38POs"
      }
    },
    {
      "cell_type": "code",
      "source": [
        "def add(a: int, b: int) -> int:\n",
        "    return a + b\n",
        "\n",
        "result = add(5, 3)\n",
        "print(f\"결과: {result}\")"
      ],
      "metadata": {
        "colab": {
          "base_uri": "https://localhost:8080/"
        },
        "id": "uhv9wy6_8PAX",
        "outputId": "93a2d66a-8c49-4172-e478-629382d9b794"
      },
      "execution_count": null,
      "outputs": [
        {
          "output_type": "stream",
          "name": "stdout",
          "text": [
            "결과: 8\n"
          ]
        }
      ]
    },
    {
      "cell_type": "markdown",
      "source": [
        "----"
      ],
      "metadata": {
        "id": "YXgk9mw47lm7"
      }
    },
    {
      "cell_type": "markdown",
      "source": [
        "[문제 6] 0부터 시작하여 n까지의 숫자 중에서 홀수만 생성하는 제너레이터 odd_numbers를 작성하세요.\n"
      ],
      "metadata": {
        "id": "W1YQAqCf8YNn"
      }
    },
    {
      "cell_type": "code",
      "source": [
        "def odd_numbers(n):\n",
        "    for i in range(n + 1):\n",
        "        if i % 2 == 1:\n",
        "            yield i\n",
        "\n",
        "# 사용 예시\n",
        "for odd in odd_numbers(10):\n",
        "    print(odd, end=\" \")"
      ],
      "metadata": {
        "colab": {
          "base_uri": "https://localhost:8080/"
        },
        "id": "bpag_GVP8YDH",
        "outputId": "db7e4beb-ce57-4a0b-8c67-37b1c6bd2426"
      },
      "execution_count": null,
      "outputs": [
        {
          "output_type": "stream",
          "name": "stdout",
          "text": [
            "1 3 5 7 9 "
          ]
        }
      ]
    },
    {
      "cell_type": "markdown",
      "source": [
        "----"
      ],
      "metadata": {
        "id": "VZCZNEow7kDW"
      }
    },
    {
      "cell_type": "markdown",
      "source": [
        "[문제 7] 두 숫자를 더하는 람다 함수를 작성하고, 이를 변수에 할당한 후 사용하세요."
      ],
      "metadata": {
        "id": "QPWEX1KN8hcu"
      }
    },
    {
      "cell_type": "code",
      "source": [
        "add_lambda = lambda x, y: x + y\n",
        "\n",
        "result = add_lambda(10, 20)\n",
        "print(f\"람다 함수 결과: {result}\")"
      ],
      "metadata": {
        "colab": {
          "base_uri": "https://localhost:8080/"
        },
        "id": "8-HwFWGz8i0g",
        "outputId": "3c25168a-e40f-42cb-b19b-53a3fedc8443"
      },
      "execution_count": null,
      "outputs": [
        {
          "output_type": "stream",
          "name": "stdout",
          "text": [
            "람다 함수 결과: 30\n"
          ]
        }
      ]
    },
    {
      "cell_type": "markdown",
      "source": [
        "----"
      ],
      "metadata": {
        "id": "8DmK4kaz7j1U"
      }
    },
    {
      "cell_type": "markdown",
      "source": [
        "[문제 8] 사용자로부터 3개의 숫자를 입력받아, 이를 튜플로 만든 후 최소값과 최대값을 출력하는 함수 min_max를 작성하세요."
      ],
      "metadata": {
        "id": "3P9u8WSh8p10"
      }
    },
    {
      "cell_type": "code",
      "source": [
        "def min_max():\n",
        "    num1 = int(input(\"첫 번째 숫자: \"))\n",
        "    num2 = int(input(\"두 번째 숫자: \"))\n",
        "    num3 = int(input(\"세 번째 숫자: \"))\n",
        "\n",
        "    numbers = (num1, num2, num3)\n",
        "    print(f\"최소값: {min(numbers)}\")\n",
        "    print(f\"최대값: {max(numbers)}\")\n",
        "\n",
        "min_max()"
      ],
      "metadata": {
        "colab": {
          "base_uri": "https://localhost:8080/"
        },
        "id": "fEPD21bL8q6Y",
        "outputId": "2b530542-4693-4e12-cf75-e846f0c98c13"
      },
      "execution_count": null,
      "outputs": [
        {
          "output_type": "stream",
          "name": "stdout",
          "text": [
            "첫 번째 숫자: 1\n",
            "두 번째 숫자: 50\n",
            "세 번째 숫자: 15\n",
            "최소값: 1\n",
            "최대값: 50\n"
          ]
        }
      ]
    },
    {
      "cell_type": "markdown",
      "source": [
        "----"
      ],
      "metadata": {
        "id": "k2SMmmwn8zu_"
      }
    },
    {
      "cell_type": "markdown",
      "source": [
        "[문제 9] 주어진 숫자가 짝수인지 확인하는 함수 is_even을 작성하세요. 짝수라면 True를, 아니라면 False를 반환하세요. 함수 내에서 조기 리턴을 활용하세요."
      ],
      "metadata": {
        "id": "HJJaXVzE81uW"
      }
    },
    {
      "cell_type": "code",
      "execution_count": null,
      "metadata": {
        "colab": {
          "base_uri": "https://localhost:8080/"
        },
        "id": "Kiprshth6L8x",
        "outputId": "d2437732-f73a-432a-f5d2-a7a973bf6ff1"
      },
      "outputs": [
        {
          "output_type": "stream",
          "name": "stdout",
          "text": [
            "True\n",
            "False\n"
          ]
        }
      ],
      "source": [
        "def is_even(number):\n",
        "    if number % 2 == 0:\n",
        "        return True\n",
        "    return False\n",
        "\n",
        "print(is_even(4))  # True\n",
        "print(is_even(3))  # False"
      ]
    },
    {
      "cell_type": "markdown",
      "source": [
        "----"
      ],
      "metadata": {
        "id": "QIxQPIy59AUg"
      }
    },
    {
      "cell_type": "markdown",
      "source": [
        "[문제 10] 팩토리얼을 계산하는 재귀 함수 factorial을 작성하세요."
      ],
      "metadata": {
        "id": "_au0ugzr8_NR"
      }
    },
    {
      "cell_type": "code",
      "source": [
        "def factorial(n):\n",
        "    if n <= 1:\n",
        "        return 1\n",
        "    return n * factorial(n - 1)\n",
        "\n",
        "result = factorial(5)\n",
        "print(f\"5! = {result}\")"
      ],
      "metadata": {
        "colab": {
          "base_uri": "https://localhost:8080/"
        },
        "id": "OA8fMSuM84Po",
        "outputId": "83875d3d-b068-4c39-9ad8-572593e14bce"
      },
      "execution_count": null,
      "outputs": [
        {
          "output_type": "stream",
          "name": "stdout",
          "text": [
            "5! = 120\n"
          ]
        }
      ]
    },
    {
      "cell_type": "markdown",
      "source": [
        "----\n"
      ],
      "metadata": {
        "id": "tNRFcFtu9Cc7"
      }
    },
    {
      "cell_type": "markdown",
      "source": [
        "[문제 11] 문자열 리스트를 받아, 각 문자열의 길이를 출력하는 함수 print_lengths를 작성하세요."
      ],
      "metadata": {
        "id": "x2vr78Zh9Dl9"
      }
    },
    {
      "cell_type": "code",
      "source": [
        "def print_lengths(strings):\n",
        "    for string in strings:\n",
        "        print(f\"'{string}'의 길이: {len(string)}\")\n",
        "\n",
        "words = [\"진짜\", \"파이썬\", \"이거\", \"쉽지않네요..\"]\n",
        "print_lengths(words)"
      ],
      "metadata": {
        "colab": {
          "base_uri": "https://localhost:8080/"
        },
        "id": "lbVqdHyY9DGZ",
        "outputId": "342912e4-3b48-4b89-f4e1-41c55d465914"
      },
      "execution_count": null,
      "outputs": [
        {
          "output_type": "stream",
          "name": "stdout",
          "text": [
            "'진짜'의 길이: 2\n",
            "'파이썬'의 길이: 3\n",
            "'이거'의 길이: 2\n",
            "'쉽지않네요..'의 길이: 7\n"
          ]
        }
      ]
    },
    {
      "cell_type": "markdown",
      "source": [
        "----"
      ],
      "metadata": {
        "id": "4F5NEkMA9EBW"
      }
    },
    {
      "cell_type": "markdown",
      "source": [
        "[문제 12] 두 문자열을 받아서 긴 문자열을 반환하는 함수 longer_string을 작성하세요. 만약 두 문자열의 길이가 같다면, 첫 번째 문자열을 반환하세요."
      ],
      "metadata": {
        "id": "DL0JfH339Uxx"
      }
    },
    {
      "cell_type": "code",
      "source": [
        "def longer_string(str1, str2):\n",
        "    if len(str1) >= len(str2):\n",
        "        return str1\n",
        "    else:\n",
        "        return str2\n",
        "\n",
        "result = longer_string(\"맞는지는\", \"모르겠습니다\")\n",
        "print(f\"더 긴 문자열: {result}\")"
      ],
      "metadata": {
        "colab": {
          "base_uri": "https://localhost:8080/"
        },
        "id": "Oum_Ka7E9EZg",
        "outputId": "e9baceb5-155a-44ef-ca4e-43d499af48a0"
      },
      "execution_count": null,
      "outputs": [
        {
          "output_type": "stream",
          "name": "stdout",
          "text": [
            "더 긴 문자열: 모르겠습니다\n"
          ]
        }
      ]
    }
  ]
}