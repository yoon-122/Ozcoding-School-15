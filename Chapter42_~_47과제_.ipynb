{
  "nbformat": 4,
  "nbformat_minor": 0,
  "metadata": {
    "colab": {
      "provenance": [],
      "authorship_tag": "ABX9TyOKRUkXmR4pBcavBysw/xNK",
      "include_colab_link": true
    },
    "kernelspec": {
      "name": "python3",
      "display_name": "Python 3"
    },
    "language_info": {
      "name": "python"
    }
  },
  "cells": [
    {
      "cell_type": "markdown",
      "metadata": {
        "id": "view-in-github",
        "colab_type": "text"
      },
      "source": [
        "<a href=\"https://colab.research.google.com/github/yoon-122/Ozcoding-School-15/blob/main/Chapter42_~_47%EA%B3%BC%EC%A0%9C_.ipynb\" target=\"_parent\"><img src=\"https://colab.research.google.com/assets/colab-badge.svg\" alt=\"Open In Colab\"/></a>"
      ]
    },
    {
      "cell_type": "markdown",
      "source": [
        "안녕하세요. 수강생 여러분~! Chapter42 ~ 47 수업은 잘 들으셨나요?\n",
        "\n",
        "Chapter42 ~ 47의 수업 내용을 바탕으로 아래 문제를 풀어주시면 됩니다.\n",
        "\n",
        "\n",
        "[답변 입력 방법]\n",
        "\n",
        "문제 아래에 있는 코드 입력창에 정답코드를 작성하신 후 ▷ 버튼을 클릭해 코드를 실행 해보세요"
      ],
      "metadata": {
        "id": "0j7okcST_LY7"
      }
    },
    {
      "cell_type": "markdown",
      "source": [
        "---"
      ],
      "metadata": {
        "id": "fP_qVDFg_V90"
      }
    },
    {
      "cell_type": "markdown",
      "source": [
        "[문제 1]\n",
        "\n",
        "'Person'이라는 클래스를 선언하세요. 이 클래스는 name (이름)과 age (나이) 두 개의 속성을 갖습니다.\n",
        "\n",
        "그리고 'greet'라는 메소드를 갖고 있으며, 이 메소드는 \"안녕하세요, 제 이름은 [name]입니다.\n",
        "\n",
        "나이는 [age]살입니다.\"라는 메시지를 반환합니다.\n",
        "이 클래스를 사용하여 '홍길동'이라는 이름과 20살의 나이를 가진 'Person' 객체를 생성하고, 'greet' 메소드를 호출하여 메시지를 출력하세요."
      ],
      "metadata": {
        "id": "chmnmEth_Xgw"
      }
    },
    {
      "cell_type": "code",
      "execution_count": 1,
      "metadata": {
        "colab": {
          "base_uri": "https://localhost:8080/"
        },
        "id": "fr1gwEWf_Eyu",
        "outputId": "82d94e43-133a-4947-9517-bad742a63f44"
      },
      "outputs": [
        {
          "output_type": "stream",
          "name": "stdout",
          "text": [
            "안녕하세요, 제 이름은 윤영훈입니다. 나이는 26살입니다.\n"
          ]
        }
      ],
      "source": [
        "class Person:\n",
        "    def __init__(self, name, age):\n",
        "        self.name = name\n",
        "        self.age = age\n",
        "\n",
        "    def greet(self):\n",
        "        return f\"안녕하세요, 제 이름은 {self.name}입니다. 나이는 {self.age}살입니다.\"\n",
        "\n",
        "# 객체 생성 및 메소드 호출\n",
        "person1 = Person(\"윤영훈\", 26)\n",
        "print(person1.greet())"
      ]
    },
    {
      "cell_type": "markdown",
      "source": [
        "----"
      ],
      "metadata": {
        "id": "EC8jBT1_AIsj"
      }
    },
    {
      "cell_type": "markdown",
      "source": [
        "[문제 2]\n",
        "\n",
        "'Rectangle' 클래스를 작성하세요.\n",
        "\n",
        "이 클래스는 높이(height)와 너비(width)를 속성으로 가지며, 생성자(init)를 통해 이 두 속성을 초기화합니다.\n",
        "\n",
        "'area' 메소드를 추가하여 사각형의 면적을 계산하고 반환하도록 하세요. 높이가 10, 너비가 5인 사각형 객체를 생성하고,\n",
        "이 객체를 사용하여 면적을 계산해 출력하세요."
      ],
      "metadata": {
        "id": "qdf9Mm4V_nnA"
      }
    },
    {
      "cell_type": "code",
      "source": [
        "class Rectangle:\n",
        "    def __init__(self, height, width):\n",
        "        self.height = height\n",
        "        self.width = width\n",
        "\n",
        "    def area(self):\n",
        "        return self.height * self.width\n",
        "\n",
        "# 객체 생성 및 면적 계산\n",
        "rect = Rectangle(10, 5)\n",
        "print(f\"사각형의 면적: {rect.area()}\")"
      ],
      "metadata": {
        "colab": {
          "base_uri": "https://localhost:8080/"
        },
        "id": "Pa50z-xZ_eNA",
        "outputId": "6cb307fd-6edc-4949-d2c1-0c17b10ff8a9"
      },
      "execution_count": 2,
      "outputs": [
        {
          "output_type": "stream",
          "name": "stdout",
          "text": [
            "사각형의 면적: 50\n"
          ]
        }
      ]
    },
    {
      "cell_type": "markdown",
      "source": [
        "----"
      ],
      "metadata": {
        "id": "wmq3GcffAJ_R"
      }
    },
    {
      "cell_type": "markdown",
      "source": [
        "[문제 3]\n",
        "\n",
        "'Book' 클래스를 선언하세요.\n",
        "\n",
        "이 클래스는 title (제목)과 author (저자) 두 개의 속성을 갖습니다.\n",
        "\n",
        "str 특수 메소드를 오버라이드하여, 객체를 문자열로 변환할 때 \"제목: [title], 저자: [author]\" 형식의 문자열을 반환하도록 하세요.\n",
        "\n",
        "'Book' 객체를 하나 생성하고, print 함수를 사용하여 해당 객체의 문자열 표현을 출력하세요."
      ],
      "metadata": {
        "id": "QH00_gTb_w3T"
      }
    },
    {
      "cell_type": "code",
      "source": [
        "class Book:\n",
        "    def __init__(self, title, author):\n",
        "        self.title = title\n",
        "        self.author = author\n",
        "\n",
        "    def __str__(self):\n",
        "        return f\"제목: {self.title}, 저자: {self.author}\"\n",
        "\n",
        "# 객체 생성 및 출력\n",
        "book1 = Book(\"파이썬 정복\", \"홍길동\")\n",
        "print(book1)"
      ],
      "metadata": {
        "colab": {
          "base_uri": "https://localhost:8080/"
        },
        "id": "iw1QnwhI_p-B",
        "outputId": "ea6c8b16-250d-45ff-b062-b9d12e65d9f1"
      },
      "execution_count": 3,
      "outputs": [
        {
          "output_type": "stream",
          "name": "stdout",
          "text": [
            "제목: 파이썬 정복, 저자: 홍길동\n"
          ]
        }
      ]
    },
    {
      "cell_type": "markdown",
      "source": [
        "----"
      ],
      "metadata": {
        "id": "Tx5c2B6sALxn"
      }
    },
    {
      "cell_type": "markdown",
      "source": [
        "[문제 4]\n",
        "\n",
        "'Employee' 클래스를 선언하세요.\n",
        "\n",
        "이 클래스는 월급인상률을 의미하는 클래스 변수로 'raise_amount'를 갖고 있으며, 기본값은 1.04입니다. 다음 급여는 기본 급여에 월급인상률을 곱한 값으로 결정합니다.\n",
        "\n",
        "또한, 각 직원의 이름(name)과 급여(salary)를 속성으로 가지며, 'apply_raise' 메소드를 통해 급여에 'raise_amount'를 적용할 수 있어야 합니다.\n",
        "\n",
        "'Employee' 클래스의 객체 두 개를 생성하고, 한 객체에만 'raise_amount'를 변경한 후, 두 객체의 급여를 증가시켜보세요.\n",
        "그리고 각 객체의 새로운 급여를 출력하세요."
      ],
      "metadata": {
        "id": "xbZyFz76_8ZS"
      }
    },
    {
      "cell_type": "code",
      "source": [
        "class Employee:\n",
        "    raise_amount = 1.04  # 클래스 변수 (기본 4% 인상)\n",
        "\n",
        "    def __init__(self, name, salary):\n",
        "        self.name = name\n",
        "        self.salary = salary\n",
        "\n",
        "    def apply_raise(self):\n",
        "        self.salary = int(self.salary * self.raise_amount)\n",
        "\n",
        "# 두 직원 객체 생성\n",
        "emp1 = Employee(\"김철수\", 50000)\n",
        "emp2 = Employee(\"이영희\", 60000)\n",
        "\n",
        "# emp2의 인상률만 10%로 변경\n",
        "emp2.raise_amount = 1.10\n",
        "\n",
        "# 급여 인상 적용\n",
        "emp1.apply_raise()\n",
        "emp2.apply_raise()\n",
        "\n",
        "# 결과 출력\n",
        "print(f\"{emp1.name}의 새로운 급여: {emp1.salary}원\")\n",
        "print(f\"{emp2.name}의 새로운 급여: {emp2.salary}원\")"
      ],
      "metadata": {
        "colab": {
          "base_uri": "https://localhost:8080/"
        },
        "id": "d01n8JRR_4QY",
        "outputId": "4fbe7742-c8e7-4e33-c376-a608f001eafb"
      },
      "execution_count": 4,
      "outputs": [
        {
          "output_type": "stream",
          "name": "stdout",
          "text": [
            "김철수의 새로운 급여: 52000원\n",
            "이영희의 새로운 급여: 66000원\n"
          ]
        }
      ]
    },
    {
      "cell_type": "markdown",
      "source": [
        "----"
      ],
      "metadata": {
        "id": "iQ08HEAdAND4"
      }
    },
    {
      "cell_type": "markdown",
      "source": [
        "[문제 5]\n",
        "\n",
        "'Account' 클래스를 작성하세요.\n",
        "\n",
        "이 클래스는 소유자(owner)와 잔액(balance)을 속성으로 가지며, 잔액은 프라이빗 변수로 선언합니다.\n",
        "\n",
        "'deposit'와 'withdraw' 두 개의 메소드를 통해 잔액을 조작할 수 있도록 하세요.\n",
        "\n",
        "이 때, 잔액은 음수가 될 수 없도록 체크해야 합니다. 'Account' 객체를 생성하고,\n",
        "입금 및 출금 작업을 시뮬레이션한 후, 최종 잔액을 출력하세요.\n",
        "\n"
      ],
      "metadata": {
        "id": "pwVJz7pfASRd"
      }
    },
    {
      "cell_type": "code",
      "source": [
        "class Account:\n",
        "    def __init__(self, owner, balance):\n",
        "        self.owner = owner\n",
        "        self.__balance = balance  # 프라이빗 변수\n",
        "\n",
        "    def deposit(self, amount):\n",
        "        if amount > 0:\n",
        "            self.__balance += amount\n",
        "            print(f\"{amount}원 입금되었습니다. 잔액: {self.__balance}원\")\n",
        "        else:\n",
        "            print(\"입금액은 0보다 커야 합니다.\")\n",
        "\n",
        "    def withdraw(self, amount):\n",
        "        if amount > 0:\n",
        "            if self.__balance >= amount:\n",
        "                self.__balance -= amount\n",
        "                print(f\"{amount}원 출금되었습니다. 잔액: {self.__balance}원\")\n",
        "            else:\n",
        "                print(\"잔액이 부족합니다.\")\n",
        "        else:\n",
        "            print(\"출금액은 0보다 커야 합니다.\")\n",
        "\n",
        "    def get_balance(self):\n",
        "        return self.__balance\n",
        "\n",
        "# 계좌 생성 및 입출금 시뮬레이션\n",
        "account = Account(\"홍길동\", 10000)\n",
        "print(f\"{account.owner}님의 초기 잔액: {account.get_balance()}원\")\n",
        "\n",
        "account.deposit(5000)\n",
        "account.withdraw(3000)\n",
        "account.withdraw(20000)  # 잔액 부족\n",
        "\n",
        "print(f\"\\n최종 잔액: {account.get_balance()}원\")"
      ],
      "metadata": {
        "colab": {
          "base_uri": "https://localhost:8080/"
        },
        "id": "NlbrPTi-AE1b",
        "outputId": "68ef9016-0f38-42e9-bfd4-44a6f10517c7"
      },
      "execution_count": 5,
      "outputs": [
        {
          "output_type": "stream",
          "name": "stdout",
          "text": [
            "홍길동님의 초기 잔액: 10000원\n",
            "5000원 입금되었습니다. 잔액: 15000원\n",
            "3000원 출금되었습니다. 잔액: 12000원\n",
            "잔액이 부족합니다.\n",
            "\n",
            "최종 잔액: 12000원\n"
          ]
        }
      ]
    },
    {
      "cell_type": "markdown",
      "source": [
        "----"
      ],
      "metadata": {
        "id": "4WDMx5-fAhWV"
      }
    },
    {
      "cell_type": "markdown",
      "source": [
        "[문제 6]\n",
        "\n",
        "'Vehicle'이라는 기본 클래스를 선언하세요.\n",
        "\n",
        "이 클래스는 make (제조사)와 model (모델명) 두 개의 속성을 갖고, 생성자(init)를 통해 이 두 속성을 초기화합니다. 'display_info'라는 메소드를 추가하여, \"이 차량은 [make]에서 제조한 [model]입니다.\"라는 메시지를 반환하도록 하세요.\n",
        "\n",
        "'Truck'과 'Car' 두 개의 하위 클래스를 생성하고, 각 클래스는 'Vehicle' 클래스로부터 상속받습니다.\n",
        "\n",
        "'Truck' 클래스에는 추가로 'payload' (적재량) 속성을, 'Car' 클래스에는 'seats' (좌석 수) 속성을 추가합니다. 각각의 하위 클래스에서 'display_info' 메소드는 기본 클래스의 메소드를 그대로 사용합니다.\n",
        "\n",
        "'Truck'과 'Car' 객체 각각을 생성하고, 'display_info' 메소드를 호출하여 정보를 출력하세요.\n",
        "\n",
        "또한, 각 객체의 추가 속성(적재량, 좌석 수)에 대한 정보도 출력하세요.\n",
        "\n",
        "이 문제는 클래스의 상속 개념을 이해하고, 기본 클래스의 속성과 메소드를 하위 클래스가 어떻게 활용할 수 있는지 보여줍니다.\n",
        "\n",
        "오버라이드는 필요하지 않으며, 각 하위 클래스의 고유한 속성을 추가하는 방법에 초점을 맞춥니다."
      ],
      "metadata": {
        "id": "Oe_U5uCXAg04"
      }
    },
    {
      "cell_type": "code",
      "source": [
        "class Vehicle:\n",
        "    def __init__(self, make, model):\n",
        "        self.make = make\n",
        "        self.model = model\n",
        "\n",
        "    def display_info(self):\n",
        "        return f\"이 차량은 {self.make}에서 제조한 {self.model}입니다.\"\n",
        "\n",
        "class Truck(Vehicle):\n",
        "    def __init__(self, make, model, payload):\n",
        "        super().__init__(make, model)  # 부모 클래스의 생성자 호출\n",
        "        self.payload = payload\n",
        "\n",
        "class Car(Vehicle):\n",
        "    def __init__(self, make, model, seats):\n",
        "        super().__init__(make, model)  # 부모 클래스의 생성자 호출\n",
        "        self.seats = seats\n",
        "\n",
        "# 객체 생성 및 정보 출력\n",
        "truck = Truck(\"현대\", \"포터\", 1000)\n",
        "car = Car(\"기아\", \"K5\", 5)\n",
        "\n",
        "print(truck.display_info())\n",
        "print(f\"적재량: {truck.payload}kg\")\n",
        "print()\n",
        "print(car.display_info())\n",
        "print(f\"좌석 수: {car.seats}인승\")"
      ],
      "metadata": {
        "colab": {
          "base_uri": "https://localhost:8080/"
        },
        "id": "ah_PADMaAUyV",
        "outputId": "12cd5e19-32b3-48bb-ab4c-fc1a1c586554"
      },
      "execution_count": 6,
      "outputs": [
        {
          "output_type": "stream",
          "name": "stdout",
          "text": [
            "이 차량은 현대에서 제조한 포터입니다.\n",
            "적재량: 1000kg\n",
            "\n",
            "이 차량은 기아에서 제조한 K5입니다.\n",
            "좌석 수: 5인승\n"
          ]
        }
      ]
    }
  ]
}